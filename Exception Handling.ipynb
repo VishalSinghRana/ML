{
 "cells": [
  {
   "cell_type": "markdown",
   "metadata": {},
   "source": [
    "# Exception Handling"
   ]
  },
  {
   "cell_type": "markdown",
   "metadata": {},
   "source": [
    "An exception is an event,which occurs during the execution of a program that disrupts the normal flow of the programs instrcution."
   ]
  },
  {
   "cell_type": "code",
   "execution_count": 1,
   "metadata": {},
   "outputs": [],
   "source": [
    "# suppose we define a variable \"a\"\n",
    "a = 1\n",
    "# there is no exception raised because it works perfectly."
   ]
  },
  {
   "cell_type": "code",
   "execution_count": 2,
   "metadata": {},
   "outputs": [
    {
     "ename": "NameError",
     "evalue": "name 'b' is not defined",
     "output_type": "error",
     "traceback": [
      "\u001b[1;31m---------------------------------------------------------------------------\u001b[0m",
      "\u001b[1;31mNameError\u001b[0m                                 Traceback (most recent call last)",
      "\u001b[1;32m<ipython-input-2-f76d3ee0f024>\u001b[0m in \u001b[0;36m<module>\u001b[1;34m\u001b[0m\n\u001b[0;32m      1\u001b[0m \u001b[1;31m# if we say a=b.\u001b[0m\u001b[1;33m\u001b[0m\u001b[1;33m\u001b[0m\u001b[1;33m\u001b[0m\u001b[0m\n\u001b[1;32m----> 2\u001b[1;33m \u001b[0ma\u001b[0m\u001b[1;33m=\u001b[0m\u001b[0mb\u001b[0m\u001b[1;33m\u001b[0m\u001b[1;33m\u001b[0m\u001b[0m\n\u001b[0m\u001b[0;32m      3\u001b[0m \u001b[1;31m# exception will be raised because we havent defined b\u001b[0m\u001b[1;33m\u001b[0m\u001b[1;33m\u001b[0m\u001b[1;33m\u001b[0m\u001b[0m\n",
      "\u001b[1;31mNameError\u001b[0m: name 'b' is not defined"
     ]
    }
   ],
   "source": [
    "# if we say a=b.\n",
    "a=b \n",
    "# exception will be raised because we havent defined b"
   ]
  },
  {
   "cell_type": "markdown",
   "metadata": {},
   "source": [
    "Exception is handles using a try and except block."
   ]
  },
  {
   "cell_type": "markdown",
   "metadata": {},
   "source": [
    "There can be a try,except and else block also and a try,except,else and finally block."
   ]
  },
  {
   "cell_type": "code",
   "execution_count": null,
   "metadata": {},
   "outputs": [],
   "source": [
    "# basic syntax of a try-except block\n",
    "\n",
    "try:\n",
    "    # statements\n",
    "    pass\n",
    "except:\n",
    "    pass\n",
    "    # exceptions\n"
   ]
  },
  {
   "cell_type": "code",
   "execution_count": null,
   "metadata": {},
   "outputs": [],
   "source": [
    "try: \n",
    "    a=b\n",
    "    \n",
    "except:\n",
    "    print(Exception)\n",
    "    \n",
    "# here it will be printing class exception because we are directly writing it in the except block the correct way is."
   ]
  },
  {
   "cell_type": "code",
   "execution_count": null,
   "metadata": {},
   "outputs": [],
   "source": [
    "try:\n",
    "    a=b\n",
    "\n",
    "except Exception as ex:\n",
    "    print(ex)"
   ]
  },
  {
   "cell_type": "code",
   "execution_count": null,
   "metadata": {},
   "outputs": [],
   "source": [
    "# if you look carefully this \"name 'b' is not defined\" is the name error we get."
   ]
  },
  {
   "cell_type": "code",
   "execution_count": null,
   "metadata": {},
   "outputs": [],
   "source": [
    "try:\n",
    "    a=b\n",
    "\n",
    "except NameError:\n",
    "    print(\"One of you used variable is not defined\")\n",
    "    \n",
    "except Exception as ex:\n",
    "    print(ex)\n",
    "    \n",
    "# here it will enter the NameError except block because we are handling a NameError."
   ]
  },
  {
   "cell_type": "code",
   "execution_count": null,
   "metadata": {},
   "outputs": [],
   "source": [
    "try:\n",
    "    a=12/0\n",
    "\n",
    "except NameError:\n",
    "    print(\"One of you used variable is not defined\")\n",
    "    \n",
    "except Exception as ex:\n",
    "    print(ex)\n",
    "\n",
    "# here we were trying to divide a number by zero and it has other type of exception and so as a whole it has enter the \n",
    "# exception block instead of the specified NameError exception block."
   ]
  },
  {
   "cell_type": "code",
   "execution_count": null,
   "metadata": {},
   "outputs": [],
   "source": [
    "try:\n",
    "    a=12/0\n",
    "\n",
    "except NameError:\n",
    "    print(\"One of you used variable is not defined\")\n",
    "\n",
    "except ZeroDivisionError:\n",
    "    print(\"Tried dividing by zero\")\n",
    "    \n",
    "except Exception as ex:\n",
    "    print(ex)\n",
    "    \n",
    "# here we have handled the Division by zero error also."
   ]
  },
  {
   "cell_type": "code",
   "execution_count": null,
   "metadata": {},
   "outputs": [],
   "source": [
    "try:\n",
    "    a=1\n",
    "    b=\"v\"\n",
    "    c=a+b\n",
    "\n",
    "except NameError:\n",
    "    print(\"One of you used variable is not defined\")\n",
    "    \n",
    "except Exception as ex:\n",
    "    print(ex)\n",
    "\n",
    "# we all know that a string and an integer cant be added lets see what exception it arises."
   ]
  },
  {
   "cell_type": "code",
   "execution_count": null,
   "metadata": {},
   "outputs": [],
   "source": [
    "a=1\n",
    "b=\"v\"\n",
    "c=a+b\n",
    "# gives us a type error"
   ]
  },
  {
   "cell_type": "code",
   "execution_count": null,
   "metadata": {},
   "outputs": [],
   "source": [
    "# lets handle the type error\n",
    "try:\n",
    "    a=1\n",
    "    b=\"v\"\n",
    "    c=a+b\n",
    "\n",
    "except NameError:\n",
    "    print(\"One of you used variable is not defined\")\n",
    "\n",
    "except TypeError:\n",
    "    print(\"Type of variables not same\")\n",
    "    \n",
    "except Exception as ex:\n",
    "    print(ex)\n",
    "    \n",
    "# handled the TypeError and showed the decision as we want"
   ]
  },
  {
   "cell_type": "code",
   "execution_count": null,
   "metadata": {},
   "outputs": [],
   "source": [
    "try:\n",
    "    a=1\n",
    "    b=\"v\"\n",
    "    c=a+b\n",
    "\n",
    "except NameError:\n",
    "    print(\"One of you used variable is not defined\")\n",
    "\n",
    "except TypeError as ex1:\n",
    "    print(ex1)\n",
    "    \n",
    "except Exception as ex:\n",
    "    print(ex)\n",
    "# notice the output \"unsupported operand type(s) for +: 'int' and 'str'\" is same as that is written in the error msg's \n",
    "# last line. But there is ahigh chance your user of the application wont understand this.\n",
    "# to avoid the above situation we write a statement that the user can understand"
   ]
  },
  {
   "cell_type": "code",
   "execution_count": 1,
   "metadata": {},
   "outputs": [
    {
     "name": "stdout",
     "output_type": "stream",
     "text": [
      "Enter first number12\n",
      "Enter second number0\n",
      "CAnnot divide by zero,please peovide a number greater than zero\n"
     ]
    }
   ],
   "source": [
    "## try,except nd else block\n",
    "try:\n",
    "    a=int(input(\"Enter first number\"))\n",
    "    b=int(input(\"Enter second number\"))\n",
    "    c=a+b\n",
    "    d=a/b\n",
    "    e=a*b\n",
    "\n",
    "except NameError:\n",
    "    print(\"Used variable is not defined.\")\n",
    "\n",
    "except TypeError:\n",
    "    print(\"The variable given are of not same type\")\n",
    "\n",
    "except ZeroDivisionError:\n",
    "    print(\"Cannot divide by zero,please peovide a number greater than zero\")\n",
    "\n",
    "except Exception as ex:\n",
    "    print(ex)\n",
    "    "
   ]
  },
  {
   "cell_type": "code",
   "execution_count": 2,
   "metadata": {},
   "outputs": [
    {
     "name": "stdout",
     "output_type": "stream",
     "text": [
      "Enter first number12\n",
      "Enter second number2\n",
      "14\n",
      "6.0\n",
      "24\n"
     ]
    }
   ],
   "source": [
    "## try,except nd else block\n",
    "try:\n",
    "    a=int(input(\"Enter first number\"))\n",
    "    b=int(input(\"Enter second number\"))\n",
    "    c=a+b\n",
    "    d=a/b\n",
    "    e=a*b\n",
    "\n",
    "except NameError:\n",
    "    print(\"Used variable is not defined.\")\n",
    "\n",
    "except TypeError:\n",
    "    print(\"The variable given are of not same type\")\n",
    "\n",
    "except ZeroDivisionError:\n",
    "    print(\"Cannot divide by zero,please peovide a number greater than zero\")\n",
    "\n",
    "except Exception as ex:\n",
    "    print(ex)\n",
    "    \n",
    "else:\n",
    "    c=a+b\n",
    "    d=a/b\n",
    "    e=a*b\n",
    "    print(c)\n",
    "    print(d)\n",
    "    print(e)\n",
    "\n",
    "# if no exception arises the else block will print the values of c,d and e."
   ]
  },
  {
   "cell_type": "code",
   "execution_count": 3,
   "metadata": {},
   "outputs": [
    {
     "name": "stdout",
     "output_type": "stream",
     "text": [
      "Enter first number12\n",
      "Enter second number0\n",
      "Cannot divide by zero,please peovide a number greater than zero\n"
     ]
    }
   ],
   "source": [
    "## try,except nd else block\n",
    "try:\n",
    "    a=int(input(\"Enter first number\"))\n",
    "    b=int(input(\"Enter second number\"))\n",
    "    c=a+b\n",
    "    d=a/b\n",
    "    e=a*b\n",
    "\n",
    "except NameError:\n",
    "    print(\"Used variable is not defined.\")\n",
    "\n",
    "except TypeError:\n",
    "    print(\"The variable given are of not same type\")\n",
    "\n",
    "except ZeroDivisionError:\n",
    "    print(\"Cannot divide by zero,please peovide a number greater than zero\")\n",
    "\n",
    "except Exception as ex:\n",
    "    print(ex)\n",
    "    \n",
    "else:\n",
    "    c=a+b\n",
    "    d=a/b\n",
    "    e=a*b\n",
    "    print(c)\n",
    "    print(d)\n",
    "    print(e)\n",
    "\n",
    "# exception arises so it doesnt enter the else block and will print the exception and stop execution."
   ]
  },
  {
   "cell_type": "code",
   "execution_count": 8,
   "metadata": {},
   "outputs": [
    {
     "name": "stdout",
     "output_type": "stream",
     "text": [
      "Enter first number:-12\n",
      "Enter second number:-3\n",
      "15\n",
      "4.0\n",
      "36\n",
      "Code executed successfully\n"
     ]
    }
   ],
   "source": [
    "# try,except,else,finally block\n",
    "## try,except nd else block\n",
    "try:\n",
    "    a=int(input(\"Enter first number:-\"))\n",
    "    b=int(input(\"Enter second number:-\"))\n",
    "    c=a+b\n",
    "    d=a/b\n",
    "    e=a*b\n",
    "\n",
    "except NameError:\n",
    "    print(\"Used variable is not defined.\")\n",
    "\n",
    "except TypeError:\n",
    "    print(\"The variable given are of not same type\")\n",
    "\n",
    "except ZeroDivisionError:\n",
    "    print(\"Cannot divide by zero,please peovide a number greater than zero\")\n",
    "\n",
    "except Exception as ex:\n",
    "    print(ex)\n",
    "    \n",
    "else:\n",
    "    c=a+b\n",
    "    d=a/b\n",
    "    e=a*b\n",
    "    print(c)\n",
    "    print(d)\n",
    "    print(e)\n",
    "\n",
    "finally:\n",
    "        print(\"Code executed successfully\")\n",
    "    \n",
    "# the finally block will be executed at last whether the exception has occured or not.\n",
    "# finally block with do what it it intended to do.\n",
    "# its not like exception has occured so it will ignore the finally as it ignored the else block.\n",
    "# "
   ]
  },
  {
   "cell_type": "code",
   "execution_count": 6,
   "metadata": {},
   "outputs": [],
   "source": []
  },
  {
   "cell_type": "code",
   "execution_count": 11,
   "metadata": {},
   "outputs": [
    {
     "name": "stdout",
     "output_type": "stream",
     "text": [
      "Enter first number:-12\n",
      "Enter second number:-0\n",
      "Cannot divide by zero,please peovide a number greater than zero\n",
      "Code executed successfully\n"
     ]
    }
   ],
   "source": [
    "try:\n",
    "    a=int(input(\"Enter first number:-\"))\n",
    "    b=int(input(\"Enter second number:-\"))\n",
    "    c=a+b\n",
    "    d=a/b\n",
    "    e=a*b\n",
    "\n",
    "except NameError:\n",
    "    print(\"Used variable is not defined.\")\n",
    "\n",
    "except TypeError:\n",
    "    print(\"The variable given are of not same type\")\n",
    "\n",
    "except ZeroDivisionError:\n",
    "    print(\"Cannot divide by zero,please peovide a number greater than zero\")\n",
    "\n",
    "except Exception as ex:\n",
    "    print(ex)\n",
    "    \n",
    "else:\n",
    "    c=a+b\n",
    "    d=a/b\n",
    "    e=a*b\n",
    "    print(c)\n",
    "    print(d)\n",
    "    print(e)\n",
    "\n",
    "finally:\n",
    "    print(\"Code executed successfully\")\n",
    "        \n",
    "# here an  exception will be raised and it will be,it will still print code executed successfully."
   ]
  },
  {
   "cell_type": "markdown",
   "metadata": {},
   "source": [
    "## Custom exception"
   ]
  },
  {
   "cell_type": "code",
   "execution_count": 14,
   "metadata": {},
   "outputs": [],
   "source": [
    "class Error(Exception):\n",
    "    pass\n",
    "\n",
    "class DOBException(Error):\n",
    "    pass\n",
    "\n",
    "class CustomGeneric(Error):\n",
    "    pass"
   ]
  },
  {
   "cell_type": "code",
   "execution_count": 20,
   "metadata": {},
   "outputs": [
    {
     "name": "stdout",
     "output_type": "stream",
     "text": [
      "Please Enter your birth year:-1994\n",
      "You can apply for the job\n"
     ]
    }
   ],
   "source": [
    "year = int(input(\"Please Enter your birth year:-\"))\n",
    "age=2021-year\n",
    "\n",
    "try:\n",
    "    if age<=30 and age>20:\n",
    "        print(\"You can apply for the job\")\n",
    "        \n",
    "    else:\n",
    "        raise DOBException\n",
    "    \n",
    "except DOBException:\n",
    "    print(\"You are older than the required and cannot fill the form\")\n",
    "\n",
    "# here we created our own class DOBException and called the Exception when age was greater than 30 ."
   ]
  },
  {
   "cell_type": "code",
   "execution_count": null,
   "metadata": {},
   "outputs": [],
   "source": []
  }
 ],
 "metadata": {
  "kernelspec": {
   "display_name": "Python 3",
   "language": "python",
   "name": "python3"
  },
  "language_info": {
   "codemirror_mode": {
    "name": "ipython",
    "version": 3
   },
   "file_extension": ".py",
   "mimetype": "text/x-python",
   "name": "python",
   "nbconvert_exporter": "python",
   "pygments_lexer": "ipython3",
   "version": "3.7.3"
  }
 },
 "nbformat": 4,
 "nbformat_minor": 2
}
