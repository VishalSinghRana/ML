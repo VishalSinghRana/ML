{
 "cells": [
  {
   "cell_type": "markdown",
   "metadata": {},
   "source": [
    "# Functions"
   ]
  },
  {
   "cell_type": "markdown",
   "metadata": {},
   "source": [
    "A function is a set of statements that take inputs, do some specific computation and produces output"
   ]
  },
  {
   "cell_type": "code",
   "execution_count": 1,
   "metadata": {},
   "outputs": [
    {
     "name": "stdout",
     "output_type": "stream",
     "text": [
      "Num is odd\n"
     ]
    }
   ],
   "source": [
    "# suppose we want to find whether the number is even or odd.\n",
    "num=15\n",
    "\n",
    "if num%2==0:\n",
    "    print(\"The num is even\")\n",
    "else:\n",
    "    print(\"Num is odd\")"
   ]
  },
  {
   "cell_type": "code",
   "execution_count": 2,
   "metadata": {},
   "outputs": [],
   "source": [
    "# suppose we want to write the above code in many places in our program.\n",
    "# instead of writing code again and again we will simply write a fucntion.\n",
    "\n",
    "def oddeven(num):  # functions definition\n",
    "    if num%2==0:\n",
    "        print(\"The number is even\")\n",
    "    else:\n",
    "        print(\"The number is odd\")"
   ]
  },
  {
   "cell_type": "code",
   "execution_count": 4,
   "metadata": {},
   "outputs": [
    {
     "name": "stdout",
     "output_type": "stream",
     "text": [
      "The number is even\n"
     ]
    }
   ],
   "source": [
    "oddeven(34) #  function call"
   ]
  },
  {
   "cell_type": "code",
   "execution_count": 46,
   "metadata": {},
   "outputs": [
    {
     "name": "stdout",
     "output_type": "stream",
     "text": [
      "The number is even\n",
      "None\n"
     ]
    }
   ],
   "source": [
    "oe = oddeven(34)\n",
    "print(oe) \n",
    "# here we  can see oe has  avalue of None. we cannot assignt the printstatement functions to any variable.\n",
    "# the functions should be returning some value if we want to assign a function to a variable."
   ]
  },
  {
   "cell_type": "code",
   "execution_count": 5,
   "metadata": {},
   "outputs": [],
   "source": [
    "# as in above case we can see that function is printing a statement\n",
    "# functions can also return values"
   ]
  },
  {
   "cell_type": "code",
   "execution_count": 10,
   "metadata": {},
   "outputs": [],
   "source": [
    "lst=[1,2,3,4,5,6,7,8,9,10,11,12]"
   ]
  },
  {
   "cell_type": "code",
   "execution_count": 11,
   "metadata": {},
   "outputs": [],
   "source": [
    "def sum2and3(lst): # the functions returns the sum of all number divisible by 2 and 3 in the list.\n",
    "    divbytwosum=0\n",
    "    divbythreesum=0\n",
    "    for i in lst:\n",
    "        if i%2==0:\n",
    "            divbytwosum+=i\n",
    "        if i%3==0:\n",
    "            divbythreesum+=i\n",
    "    return divbytwosum,divbythreesum"
   ]
  },
  {
   "cell_type": "code",
   "execution_count": 14,
   "metadata": {},
   "outputs": [
    {
     "data": {
      "text/plain": [
       "(42, 30)"
      ]
     },
     "execution_count": 14,
     "metadata": {},
     "output_type": "execute_result"
    }
   ],
   "source": [
    "sum2and3(lst)  # the function is returning two values in a form of tuple we can take them separately also."
   ]
  },
  {
   "cell_type": "code",
   "execution_count": 15,
   "metadata": {},
   "outputs": [],
   "source": [
    "two,three=sum2and3(lst)"
   ]
  },
  {
   "cell_type": "code",
   "execution_count": 16,
   "metadata": {},
   "outputs": [
    {
     "name": "stdout",
     "output_type": "stream",
     "text": [
      "The sum of numbers divisible by 2 is 42\n",
      "The sum of numbers divisible by 3 is 30\n"
     ]
    }
   ],
   "source": [
    "print(\"The sum of numbers divisible by 2 is {}\".format(two))\n",
    "print(\"The sum of numbers divisible by 3 is {}\".format(three))\n",
    "# we have taken the values separately and printing them."
   ]
  },
  {
   "cell_type": "code",
   "execution_count": 19,
   "metadata": {},
   "outputs": [],
   "source": [
    "#positional and keywprd arguments\n",
    "\n",
    "def cartoon(name,season=\"Z\"):\n",
    "    print(\"My favourite cartoon is {} and I have seen {} {}.\".format(name,name,season))"
   ]
  },
  {
   "cell_type": "code",
   "execution_count": 20,
   "metadata": {},
   "outputs": [
    {
     "name": "stdout",
     "output_type": "stream",
     "text": [
      "My favourite cartoon is Dragon Ball and I have seen Dragon Ball Z\n"
     ]
    }
   ],
   "source": [
    "cartoon(\"Dragon Ball\")"
   ]
  },
  {
   "cell_type": "code",
   "execution_count": 21,
   "metadata": {},
   "outputs": [],
   "source": [
    "# in the above function cartoon name is the positional argument and Z is the keyword argument"
   ]
  },
  {
   "cell_type": "code",
   "execution_count": 26,
   "metadata": {},
   "outputs": [
    {
     "ename": "TypeError",
     "evalue": "cartoon() missing 1 required positional argument: 'name'",
     "output_type": "error",
     "traceback": [
      "\u001b[1;31m---------------------------------------------------------------------------\u001b[0m",
      "\u001b[1;31mTypeError\u001b[0m                                 Traceback (most recent call last)",
      "\u001b[1;32m<ipython-input-26-84c888df1e45>\u001b[0m in \u001b[0;36m<module>\u001b[1;34m\u001b[0m\n\u001b[0;32m      1\u001b[0m \u001b[1;31m# if I wont provide any parameter to the function it will raise an error\u001b[0m\u001b[1;33m\u001b[0m\u001b[1;33m\u001b[0m\u001b[1;33m\u001b[0m\u001b[0m\n\u001b[1;32m----> 2\u001b[1;33m \u001b[0mcartoon\u001b[0m\u001b[1;33m(\u001b[0m\u001b[1;33m)\u001b[0m\u001b[1;33m\u001b[0m\u001b[1;33m\u001b[0m\u001b[0m\n\u001b[0m\u001b[0;32m      3\u001b[0m \u001b[1;33m\u001b[0m\u001b[0m\n\u001b[0;32m      4\u001b[0m \u001b[1;31m# it says missing 1 postional argument\u001b[0m\u001b[1;33m\u001b[0m\u001b[1;33m\u001b[0m\u001b[1;33m\u001b[0m\u001b[0m\n",
      "\u001b[1;31mTypeError\u001b[0m: cartoon() missing 1 required positional argument: 'name'"
     ]
    }
   ],
   "source": [
    "# if I wont provide any parameter to the function it will raise an error\n",
    "cartoon()\n",
    "\n",
    "# it says missing 1 postional argument"
   ]
  },
  {
   "cell_type": "code",
   "execution_count": 27,
   "metadata": {},
   "outputs": [],
   "source": [
    "# always remember we will be having keyword arguments in the form of key value pair."
   ]
  },
  {
   "cell_type": "code",
   "execution_count": 29,
   "metadata": {},
   "outputs": [],
   "source": [
    "# we can easily convert a keyword argument to positional argument by just not providing any value to the keyword argument\n",
    "def cartoon(name,season): # now both have become positional argument\n",
    "    pass"
   ]
  },
  {
   "cell_type": "code",
   "execution_count": 30,
   "metadata": {},
   "outputs": [],
   "source": [
    "# another way of calling positional and keyword argument is\n",
    "\n",
    "def cartoon(*args,**kwargs): # *args is for positional argument and **kwargs is for keyword arguments\n",
    "    print(args)\n",
    "    print(kwargs)"
   ]
  },
  {
   "cell_type": "code",
   "execution_count": 33,
   "metadata": {},
   "outputs": [
    {
     "name": "stdout",
     "output_type": "stream",
     "text": [
      "('Dragoon', 'Ball')\n",
      "{'season': 'AF', 'review': 'Super'}\n"
     ]
    }
   ],
   "source": [
    "cartoon(\"Dragoon\",\"Ball\",season=\"AF\",review=\"Super\")"
   ]
  },
  {
   "cell_type": "code",
   "execution_count": 34,
   "metadata": {},
   "outputs": [],
   "source": [
    "# see it prints the positonal arguments separately and keyword arguments separately"
   ]
  },
  {
   "cell_type": "code",
   "execution_count": 35,
   "metadata": {},
   "outputs": [],
   "source": [
    "lst=['Dragoon', 'Ball']\n",
    "dic={'season': 'AF', 'review': 'Super'}\n"
   ]
  },
  {
   "cell_type": "code",
   "execution_count": 38,
   "metadata": {},
   "outputs": [
    {
     "name": "stdout",
     "output_type": "stream",
     "text": [
      "(['Dragoon', 'Ball'], {'season': 'AF', 'review': 'Super'})\n",
      "{}\n"
     ]
    }
   ],
   "source": [
    "cartoon(lst,dic) # by typing like this python doesnt know which one is keyword argument and which one is positonal\n",
    "# it takes by default both the arguments to be positional arguments \n",
    "# we have to specify using * which one is positional and which one is keyword."
   ]
  },
  {
   "cell_type": "code",
   "execution_count": 41,
   "metadata": {},
   "outputs": [
    {
     "name": "stdout",
     "output_type": "stream",
     "text": [
      "('Dragoon', 'Ball')\n",
      "{'season': 'AF', 'review': 'Super'}\n"
     ]
    }
   ],
   "source": [
    "cartoon(*lst,**dic)\n",
    "# now after specifying lst is positonal argument and dic is keyword we are getting the desired output"
   ]
  },
  {
   "cell_type": "code",
   "execution_count": null,
   "metadata": {},
   "outputs": [],
   "source": []
  }
 ],
 "metadata": {
  "kernelspec": {
   "display_name": "Python 3",
   "language": "python",
   "name": "python3"
  },
  "language_info": {
   "codemirror_mode": {
    "name": "ipython",
    "version": 3
   },
   "file_extension": ".py",
   "mimetype": "text/x-python",
   "name": "python",
   "nbconvert_exporter": "python",
   "pygments_lexer": "ipython3",
   "version": "3.7.3"
  }
 },
 "nbformat": 4,
 "nbformat_minor": 2
}
